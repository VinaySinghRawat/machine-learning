{
 "cells": [
  {
   "cell_type": "code",
   "execution_count": 2,
   "metadata": {},
   "outputs": [],
   "source": [
    "import pandas as pd\n",
    "import re\n",
    "import os\n",
    "import matplotlib.pyplot as plt\n",
    "import seaborn as sns\n",
    "from sklearn.model_selection import train_test_split\n",
    "from sklearn.metrics import accuracy_score, confusion_matrix\n",
    "from collections import Counter"
   ]
  },
  {
   "cell_type": "code",
   "execution_count": 3,
   "metadata": {},
   "outputs": [],
   "source": [
    "# Load data files\n",
    "modi_path = r'D:\\project\\election prediction\\ModiRelatedTweetsWithSentiment.csv'\n",
    "rahul_path = r'D:\\project\\election prediction\\RahulRelatedTweetsWithSentiment.csv'  # Placeholder for Rahul's CSV file"
   ]
  },
  {
   "cell_type": "code",
   "execution_count": 4,
   "metadata": {},
   "outputs": [],
   "source": [
    "# Load Modi data\n",
    "data_modi = pd.read_csv(modi_path)\n",
    "data_rahul = pd.read_csv(rahul_path) if os.path.exists(rahul_path) else pd.DataFrame()"
   ]
  },
  {
   "cell_type": "code",
   "execution_count": 5,
   "metadata": {},
   "outputs": [],
   "source": [
    "# Drop missing or irrelevant columns\n",
    "data_modi = data_modi.dropna(subset=['Tweet', 'Emotion'])\n",
    "data_rahul = data_rahul.dropna(subset=['Tweet', 'Emotion'])\n"
   ]
  },
  {
   "cell_type": "code",
   "execution_count": 6,
   "metadata": {},
   "outputs": [],
   "source": [
    "# Add candidate labels\n",
    "data_modi['candidate'] = 'Modi'\n",
    "data_rahul['candidate'] = 'Rahul'\n",
    "\n",
    "# Combine datasets\n",
    "data = pd.concat([data_modi[['Tweet', 'Emotion', 'candidate']], \n",
    "                  data_rahul[['Tweet', 'Emotion', 'candidate']]], ignore_index=True)"
   ]
  },
  {
   "cell_type": "code",
   "execution_count": 7,
   "metadata": {},
   "outputs": [],
   "source": [
    "# Text preprocessing\n",
    "def preprocess_text(text):\n",
    "    text = re.sub(r\"http\\S+\", \"\", text)  # Remove URLs\n",
    "    text = re.sub(r\"@\\w+\", \"\", text)  # Remove mentions\n",
    "    text = re.sub(r\"#\\w+\", \"\", text)  # Remove hashtags\n",
    "    text = re.sub(r\"[^a-zA-Z\\s]\", \"\", text)  # Remove special characters\n",
    "    text = text.lower()  # Convert to lowercase\n",
    "    return text\n",
    "data['cleaned_tweet'] = data['Tweet'].apply(preprocess_text)"
   ]
  },
  {
   "cell_type": "code",
   "execution_count": 8,
   "metadata": {},
   "outputs": [],
   "source": [
    "# Encode sentiments as 1 (positive) and 0 (negative)\n",
    "data['sentiment'] = data['Emotion'].apply(lambda x: 1 if x == 'pos' else 0)"
   ]
  },
  {
   "cell_type": "code",
   "execution_count": 9,
   "metadata": {},
   "outputs": [],
   "source": [
    "# Train-test split\n",
    "X_train, X_test, y_train, y_test = train_test_split(\n",
    "    data['cleaned_tweet'], data['sentiment'], test_size=0.2, random_state=42)\n"
   ]
  },
  {
   "cell_type": "code",
   "execution_count": 10,
   "metadata": {},
   "outputs": [],
   "source": [
    "# Create a simple vocabulary from training data\n",
    "def build_vocabulary(corpus):\n",
    "    vocab = Counter()\n",
    "    for text in corpus:\n",
    "        vocab.update(text.split())\n",
    "    return {word: idx for idx, word in enumerate(vocab.keys())}\n",
    "\n",
    "def text_to_vector(text, vocab):\n",
    "    vector = [0] * len(vocab)\n",
    "    for word in text.split():\n",
    "        if word in vocab:\n",
    "            vector[vocab[word]] += 1\n",
    "    return vector\n",
    "\n",
    "vocab = build_vocabulary(X_train)\n",
    "X_train_vectors = [text_to_vector(text, vocab) for text in X_train]\n",
    "X_test_vectors = [text_to_vector(text, vocab) for text in X_test]\n"
   ]
  },
  {
   "cell_type": "code",
   "execution_count": 11,
   "metadata": {},
   "outputs": [],
   "source": [
    "# Train a simple classifier\n",
    "def train_naive_bayes(X, y):\n",
    "    pos_counts = Counter()\n",
    "    neg_counts = Counter()\n",
    "    pos_total = neg_total = 0\n",
    "\n",
    "    for vector, label in zip(X, y):\n",
    "        for idx, count in enumerate(vector):\n",
    "            if label == 1:\n",
    "                pos_counts[idx] += count\n",
    "                pos_total += count\n",
    "            else:\n",
    "                neg_counts[idx] += count\n",
    "                neg_total += count\n",
    "\n",
    "    pos_probs = {idx: (pos_counts[idx] + 1) / (pos_total + len(X[0])) for idx in range(len(X[0]))}\n",
    "    neg_probs = {idx: (neg_counts[idx] + 1) / (neg_total + len(X[0])) for idx in range(len(X[0]))}\n",
    "\n",
    "    return pos_probs, neg_probs, pos_total / (pos_total + neg_total), neg_total / (pos_total + neg_total)\n",
    "\n",
    "def predict_naive_bayes(X, pos_probs, neg_probs, pos_prior, neg_prior):\n",
    "    predictions = []\n",
    "    for vector in X:\n",
    "        pos_score = pos_prior\n",
    "        neg_score = neg_prior\n",
    "\n",
    "        for idx, count in enumerate(vector):\n",
    "            if count > 0:\n",
    "                pos_score *= pos_probs.get(idx, 1 / (sum(pos_probs.values()))) ** count\n",
    "                neg_score *= neg_probs.get(idx, 1 / (sum(neg_probs.values()))) ** count\n",
    "\n",
    "        predictions.append(1 if pos_score > neg_score else 0)\n",
    "    return predictions\n"
   ]
  },
  {
   "cell_type": "code",
   "execution_count": 12,
   "metadata": {},
   "outputs": [],
   "source": [
    "# Train the model\n",
    "pos_probs, neg_probs, pos_prior, neg_prior = train_naive_bayes(X_train_vectors, y_train)\n"
   ]
  },
  {
   "cell_type": "code",
   "execution_count": 13,
   "metadata": {},
   "outputs": [
    {
     "name": "stdout",
     "output_type": "stream",
     "text": [
      "Model Accuracy: 0.7602954061835023\n"
     ]
    }
   ],
   "source": [
    "# Evaluate the model\n",
    "y_pred = predict_naive_bayes(X_test_vectors, pos_probs, neg_probs, pos_prior, neg_prior)\n",
    "print(\"Model Accuracy:\", accuracy_score(y_test, y_pred))\n"
   ]
  },
  {
   "cell_type": "code",
   "execution_count": 14,
   "metadata": {},
   "outputs": [
    {
     "data": {
      "image/png": "[encoded data removed]",
      "text/plain": [
       "<Figure size 640x480 with 2 Axes>"
      ]
     },
     "metadata": {},
     "output_type": "display_data"
    }
   ],
   "source": [
    "# Confusion matrix\n",
    "conf_matrix = confusion_matrix(y_test, y_pred)\n",
    "sns.heatmap(conf_matrix, annot=True, fmt='d', cmap='Blues', xticklabels=['Negative', 'Positive'], yticklabels=['Negative', 'Positive'])\n",
    "plt.title(\"Confusion Matrix\")\n",
    "plt.xlabel(\"Predicted\")\n",
    "plt.ylabel(\"Actual\")\n",
    "plt.show()\n"
   ]
  },
  {
   "cell_type": "code",
   "execution_count": null,
   "metadata": {},
   "outputs": [],
   "source": [
    "# Predict winner\n",
    "data['prediction'] = predict_naive_bayes(\n",
    "    [text_to_vector(text, vocab) for text in data['cleaned_tweet']],\n",
    "    pos_probs, neg_probs, pos_prior, neg_prior\n",
    ")\n",
    "\n",
    "modi_positive = data[(data['candidate'] == 'Modi') & (data['prediction'] == 1)].shape[0]\n",
    "rahul_positive = data[(data['candidate'] == 'Rahul') & (data['prediction'] == 1)].shape[0]\n",
    "\n",
    "if modi_positive > rahul_positive:\n",
    "    print(f\"Prediction: Modi is likely to win based on sentiment analysis. (Positive Tweets: {modi_positive})\")\n",
    "else:\n",
    "    print(f\"Prediction: Rahul is likely to win based on sentiment analysis. (Positive Tweets: {rahul_positive})\")\n"
   ]
  }
 ],
 "metadata": {
  "kernelspec": {
   "display_name": "Python 3",
   "language": "python",
   "name": "python3"
  },
  "language_info": {
   "codemirror_mode": {
    "name": "ipython",
    "version": 3
   },
   "file_extension": ".py",
   "mimetype": "text/x-python",
   "name": "python",
   "nbconvert_exporter": "python",
   "pygments_lexer": "ipython3",
   "version": "3.12.1"
  }
 },
 "nbformat": 4,
 "nbformat_minor": 2
}
